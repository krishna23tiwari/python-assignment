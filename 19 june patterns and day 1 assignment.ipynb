{
 "cells": [
  {
   "cell_type": "code",
   "execution_count": 1,
   "id": "25d13c4b-9257-428a-82be-b63208c65205",
   "metadata": {},
   "outputs": [
    {
     "name": "stdin",
     "output_type": "stream",
     "text": [
      "enter rows:  4\n"
     ]
    },
    {
     "name": "stdout",
     "output_type": "stream",
     "text": [
      "   A \n",
      "  A B \n",
      " A B C \n",
      "A B C D \n"
     ]
    }
   ],
   "source": [
    "a = int(input(\"enter rows: \"))\n",
    "\n",
    "for i in range(1,a+1):\n",
    "    for j in range(1,(a-i)+1):\n",
    "        print(\" \",end =\"\")\n",
    "        \n",
    "    for k in range(1,i+1 ):\n",
    "        print(chr(64+k),end=\" \")\n",
    "        \n",
    "    print(\"\")"
   ]
  },
  {
   "cell_type": "code",
   "execution_count": 3,
   "id": "de77bcaf-2036-4140-a877-67e91166f961",
   "metadata": {},
   "outputs": [
    {
     "name": "stdin",
     "output_type": "stream",
     "text": [
      "enter rows:  4\n"
     ]
    },
    {
     "name": "stdout",
     "output_type": "stream",
     "text": [
      "   10 \n",
      "  11 11 \n",
      " 12 12 12 \n",
      "13 13 13 13 \n"
     ]
    }
   ],
   "source": [
    "a = int(input(\"enter rows: \"))\n",
    "b = 9\n",
    "for i in range(1,a+1):\n",
    "    for j in range(1,(a-i)+1):\n",
    "        print(\" \",end =\"\")\n",
    "        \n",
    "    for k in range(1,i+1 ):\n",
    "        print(b+i,end=\" \")\n",
    "        \n",
    "    print(\"\")"
   ]
  },
  {
   "cell_type": "code",
   "execution_count": 4,
   "id": "e107efe9-85a6-4b49-885b-fb6ca4a5a89b",
   "metadata": {},
   "outputs": [
    {
     "name": "stdin",
     "output_type": "stream",
     "text": [
      "enter rows:  5\n"
     ]
    },
    {
     "name": "stdout",
     "output_type": "stream",
     "text": [
      "        A \n",
      "      A B C \n",
      "    A B C D E \n",
      "  A B C D E F G \n",
      "A B C D E F G H I \n"
     ]
    }
   ],
   "source": [
    "a = int(input(\"enter rows: \"))\n",
    "\n",
    "for i in range(1,a*2):\n",
    "    if(i%2 != 0):\n",
    "        for j in range(1,a*2-i):\n",
    "            print(\" \",end =\"\")\n",
    "        \n",
    "        for k in range(1,i+1):\n",
    "            print(chr(64+k),end=\" \")\n",
    "        \n",
    "        print(\"\")"
   ]
  },
  {
   "cell_type": "code",
   "execution_count": 6,
   "id": "437b0c10-5aeb-43b3-b071-3b7c5d496b16",
   "metadata": {},
   "outputs": [
    {
     "name": "stdin",
     "output_type": "stream",
     "text": [
      "enter rows:  3\n"
     ]
    },
    {
     "name": "stdout",
     "output_type": "stream",
     "text": [
      "* * * * * \n",
      "  * * * \n",
      "    * \n"
     ]
    }
   ],
   "source": [
    "a = int(input(\"enter rows: \" ))\n",
    "\n",
    "for i in range(a*2+1,1,-1):\n",
    "    if(i%2 != 0):\n",
    "        for j in range(i, a*2+1):\n",
    "            print(\" \",end=\"\")\n",
    "        \n",
    "        for k in range(1,i-1):\n",
    "            print(\"*\",end=\" \")\n",
    "\n",
    "        print(\"\")"
   ]
  },
  {
   "cell_type": "code",
   "execution_count": 9,
   "id": "0ff01d9c-f4bb-48a1-8f87-2950ef907eb5",
   "metadata": {},
   "outputs": [
    {
     "name": "stdin",
     "output_type": "stream",
     "text": [
      "enter rows:  5\n"
     ]
    },
    {
     "name": "stdout",
     "output_type": "stream",
     "text": [
      "* * * * * \n",
      " * * * * \n",
      "  * * * \n",
      "   * * \n",
      "    * \n"
     ]
    }
   ],
   "source": [
    "a = int(input(\"enter rows: \" ))\n",
    "\n",
    "for i in range(a+1,1,-1):\n",
    "        for j in range(i, a+1):\n",
    "            print(\" \",end=\"\")\n",
    "        \n",
    "        for k in range(1,i):\n",
    "            print(\"*\",end=\" \")\n",
    "\n",
    "        print(\"\")"
   ]
  },
  {
   "cell_type": "code",
   "execution_count": 10,
   "id": "ed7af028-23da-404a-b3ea-ca8b992ac3a3",
   "metadata": {},
   "outputs": [
    {
     "name": "stdout",
     "output_type": "stream",
     "text": [
      "Hello krishan kant\n"
     ]
    }
   ],
   "source": [
    "name = \"krishan kant\"\n",
    "\n",
    "print(\"Hello\",name)\n"
   ]
  },
  {
   "cell_type": "code",
   "execution_count": 11,
   "id": "1130c595-7ba8-4412-a4d4-b205537aba15",
   "metadata": {},
   "outputs": [
    {
     "name": "stdin",
     "output_type": "stream",
     "text": [
      "enter first number:  12\n",
      "enter second number:  -20\n"
     ]
    },
    {
     "name": "stdout",
     "output_type": "stream",
     "text": [
      "Negative\n"
     ]
    }
   ],
   "source": [
    "a = int(input(\"enter first number: \"))\n",
    "b = int(input(\"enter second number: \"))\n",
    "\n",
    "c = a+b\n",
    "\n",
    "if(c>0):\n",
    "    print(\"Postive\")\n",
    "else:\n",
    "    print(\"Negative\")"
   ]
  },
  {
   "cell_type": "code",
   "execution_count": 12,
   "id": "2c7437ff-f40c-4a93-899b-9ad986f5ec16",
   "metadata": {},
   "outputs": [
    {
     "name": "stdout",
     "output_type": "stream",
     "text": [
      "enter number 1 to 10: \n"
     ]
    },
    {
     "name": "stdin",
     "output_type": "stream",
     "text": [
      "enter number:  66\n"
     ]
    },
    {
     "name": "stdout",
     "output_type": "stream",
     "text": [
      "sorry try again \n"
     ]
    },
    {
     "name": "stdin",
     "output_type": "stream",
     "text": [
      "enter number:  88\n"
     ]
    },
    {
     "name": "stdout",
     "output_type": "stream",
     "text": [
      "sorry try again \n"
     ]
    },
    {
     "name": "stdin",
     "output_type": "stream",
     "text": [
      "enter number:  2\n"
     ]
    },
    {
     "name": "stdout",
     "output_type": "stream",
     "text": [
      "correct\n"
     ]
    }
   ],
   "source": [
    "print(\"enter number 1 to 10: \")\n",
    "\n",
    "while(True):\n",
    "    a = int(input(\"enter number: \"))\n",
    "    if(a>=1 and a<=10):\n",
    "        print(\"correct\")\n",
    "        break\n",
    "    else:\n",
    "        print(\"sorry try again \")\n",
    "\n"
   ]
  },
  {
   "cell_type": "code",
   "execution_count": 13,
   "id": "cc02505c-fc3e-4d0e-921a-134562778074",
   "metadata": {},
   "outputs": [
    {
     "name": "stdin",
     "output_type": "stream",
     "text": [
      "enter first name:  kk\n",
      "enter last  name:  t\n"
     ]
    },
    {
     "name": "stdout",
     "output_type": "stream",
     "text": [
      "wholename:  kk.t\n"
     ]
    }
   ],
   "source": [
    "firstname = str(input(\"enter first name: \"))\n",
    "lastname = str(input(\"enter last  name: \"))\n",
    "\n",
    "wholename = firstname + '.' + lastname\n",
    "\n",
    "print(\"wholename: \", wholename)"
   ]
  },
  {
   "cell_type": "code",
   "execution_count": 1,
   "id": "43c066a4-0547-4b22-b81a-3fcf3ea67cbb",
   "metadata": {},
   "outputs": [
    {
     "name": "stdout",
     "output_type": "stream",
     "text": [
      "The sum is 16\n",
      "The multiplication is 105\n"
     ]
    }
   ],
   "source": [
    "a = [1,3,5,7]\n",
    "b = 0\n",
    "c = 1\n",
    "\n",
    "for i in(a):\n",
    "    b += i\n",
    "    c *= i\n",
    "print(\"The sum is\",b)\n",
    "print(\"The multiplication is\", c)"
   ]
  },
  {
   "cell_type": "code",
   "execution_count": 1,
   "id": "be16365b-9608-41a3-8f96-cf0fcac876aa",
   "metadata": {},
   "outputs": [
    {
     "name": "stdout",
     "output_type": "stream",
     "text": [
      "enter string \n"
     ]
    },
    {
     "name": "stdin",
     "output_type": "stream",
     "text": [
      " HEllo\n"
     ]
    },
    {
     "name": "stdout",
     "output_type": "stream",
     "text": [
      "heLLO\n"
     ]
    }
   ],
   "source": [
    "print(\"enter string \")\n",
    "a = str(input())\n",
    "b = []\n",
    "\n",
    "for i in (a):\n",
    "    if ('A'<= i and i<='Z'):\n",
    "        b.append(chr(ord(i) + (ord('a') - ord('A'))))\n",
    "    \n",
    "    elif('a'<= i and i<= 'z'):\n",
    "        b.append(chr(ord(i) - (ord('a') - ord('A'))))\n",
    "        \n",
    "    else:\n",
    "        b.append(i)\n",
    " \n",
    "b = ''.join(b)       \n",
    "print(b)"
   ]
  },
  {
   "cell_type": "code",
   "execution_count": 2,
   "id": "ff1cea15-ed6a-4642-b004-3c88b104e019",
   "metadata": {},
   "outputs": [
    {
     "name": "stdout",
     "output_type": "stream",
     "text": [
      "common in list : True\n"
     ]
    }
   ],
   "source": [
    "a = [10,20,30,50,60,'hello','hi']\n",
    "b = [1,9,30,5,90]\n",
    "d = False\n",
    "\n",
    "for i in a:\n",
    "    for j in b:\n",
    "        if(i == j):\n",
    "            d = True\n",
    "            break\n",
    "        \n",
    "    if(d == 1):\n",
    "        break\n",
    "\n",
    "print(\"common in list :\",d)"
   ]
  },
  {
   "cell_type": "code",
   "execution_count": 3,
   "id": "45911186-fb1a-491d-a5a3-06284f794e33",
   "metadata": {},
   "outputs": [
    {
     "name": "stdin",
     "output_type": "stream",
     "text": [
      "enter value:  20\n"
     ]
    },
    {
     "name": "stdout",
     "output_type": "stream",
     "text": [
      "value in a list :  True\n"
     ]
    }
   ],
   "source": [
    "a = int(input(\"enter value: \"))\n",
    "b = [10,20,30]\n",
    "c = False\n",
    "\n",
    "for i in b:\n",
    "    if(a == i):\n",
    "        c = True\n",
    "        break\n",
    "        \n",
    "print(\"value in a list : \",c)\n",
    "        "
   ]
  },
  {
   "cell_type": "code",
   "execution_count": 5,
   "id": "b0a606c6-2f9a-4e6c-bcce-2e3a2470c6de",
   "metadata": {},
   "outputs": [
    {
     "name": "stdout",
     "output_type": "stream",
     "text": [
      "['Vikay', 'John', 'Rajesh', 'Vaihai']\n"
     ]
    }
   ],
   "source": [
    "a = ['Vikay','John','Kumar','Rajesh','Malar','Vaihai']\n",
    "b = ['Vetry','Petter','Priyanka','Kumar','Malar']\n",
    "\n",
    "c = []\n",
    "\n",
    "for i in a:\n",
    "    if i not in b:\n",
    "        c.append(i)\n",
    "    \n",
    "        \n",
    "print(c)"
   ]
  },
  {
   "cell_type": "code",
   "execution_count": 6,
   "id": "2238614f-a863-4616-88d8-71364c81abe3",
   "metadata": {},
   "outputs": [
    {
     "name": "stdout",
     "output_type": "stream",
     "text": [
      "['Vetry', 'Petter', 'Priyanka']\n"
     ]
    }
   ],
   "source": [
    "a = ['Vikay','John','Kumar','Rajesh','Malar','Vaihai']\n",
    "b = ['Vetry','Petter','Priyanka','Kumar','Malar']\n",
    "\n",
    "c = []\n",
    "\n",
    "for i in b:\n",
    "    if i not in a:\n",
    "        c.append(i)\n",
    "    \n",
    "        \n",
    "print(c)"
   ]
  },
  {
   "cell_type": "code",
   "execution_count": 7,
   "id": "85f74e01-a65b-4fee-88ba-e6a8bdcefb15",
   "metadata": {},
   "outputs": [
    {
     "name": "stdout",
     "output_type": "stream",
     "text": [
      "['Kumar', 'Malar']\n"
     ]
    }
   ],
   "source": [
    "a = ['Vikay','John','Kumar','Rajesh','Malar','Vaihai']\n",
    "b = ['Vetry','Petter','Priyanka','Kumar','Malar']\n",
    "\n",
    "c = []\n",
    "\n",
    "\n",
    "for i in b:\n",
    "    for j in a:\n",
    "        if(i == j):\n",
    "            c.append(i)\n",
    "            \n",
    "        \n",
    "        \n",
    "print(c)\n",
    "            "
   ]
  },
  {
   "cell_type": "code",
   "execution_count": 2,
   "id": "7186b693-3cff-43dc-9807-120af0cf5a73",
   "metadata": {},
   "outputs": [
    {
     "name": "stdout",
     "output_type": "stream",
     "text": [
      "['Vikay', 'John', 'Rajesh', 'Vaihai', 'Vetry', 'Petter', 'Priyanka']\n"
     ]
    }
   ],
   "source": [
    "a = ['Vikay','John','Kumar','Rajesh','Malar','Vaihai']\n",
    "b = ['Vetry','Petter','Priyanka','Kumar','Malar']\n",
    "\n",
    "c = []\n",
    "\n",
    "for i in a:\n",
    "    if i not in b:\n",
    "        c.append(i)\n",
    "    \n",
    "for j in b:\n",
    "    if j not in a:\n",
    "        c.append(j)\n",
    "        \n",
    "print(c)"
   ]
  },
  {
   "cell_type": "code",
   "execution_count": 12,
   "id": "17715dff-db23-4161-884e-2511af8121e9",
   "metadata": {},
   "outputs": [
    {
     "name": "stdout",
     "output_type": "stream",
     "text": [
      "['snack', 'crocodile', 'zebra', 'lion', 'tiger', 'cat']\n"
     ]
    }
   ],
   "source": [
    "a=[\"cat\",\"tiger\",\"lion\", \"zebra\" , \"crocodile\", \"snack\"]\n",
    "b = []\n",
    "\n",
    "for i in range(len(a)-1,-1,-1):\n",
    "    b.append(a[i])\n",
    "    \n",
    "print(b)"
   ]
  },
  {
   "cell_type": "code",
   "execution_count": 1,
   "id": "8812e172-ab0c-474f-ad3e-882ac17745a5",
   "metadata": {},
   "outputs": [
    {
     "name": "stdout",
     "output_type": "stream",
     "text": [
      "[8, 8, 18, 5, 3]\n"
     ]
    }
   ],
   "source": [
    "a = [5, 8,4,18,8,55,6,8,3,18,5,3,44,]\n",
    "b=[]\n",
    "c=[]\n",
    "\n",
    "for i in a:\n",
    "    if i not in b:\n",
    "        b.append(i)\n",
    "    else:\n",
    "        c.append(i)\n",
    "print(c)  \n"
   ]
  },
  {
   "cell_type": "code",
   "execution_count": 1,
   "id": "9ef70afe-eeb8-4cd6-b8ec-c5dda297fe18",
   "metadata": {},
   "outputs": [
    {
     "name": "stdin",
     "output_type": "stream",
     "text": [
      "enter a number  2\n",
      "enter elements: 10\n",
      "enter elements: 5\n"
     ]
    },
    {
     "name": "stdout",
     "output_type": "stream",
     "text": [
      "[10, 5]\n",
      "**********\n",
      "*****\n"
     ]
    }
   ],
   "source": [
    "data = []\n",
    "x = 0\n",
    "a = int(input(\"enter a number \"))\n",
    "\n",
    "for i in range(a):\n",
    "    data.append (int(input(\"enter elements:\")))\n",
    "\n",
    "print(data)\n",
    "\n",
    "\n",
    "for n in data:\n",
    "        output = ''\n",
    "        times = n\n",
    "\n",
    "        while (times > 0):\n",
    "            output += '*'\n",
    "            times = times - 1\n",
    "\n",
    "\n",
    "        print(output)"
   ]
  },
  {
   "cell_type": "code",
   "execution_count": null,
   "id": "adb0b3de-2356-4c17-bdf0-5e5ed2b40e31",
   "metadata": {},
   "outputs": [],
   "source": []
  }
 ],
 "metadata": {
  "kernelspec": {
   "display_name": "Python 3 (ipykernel)",
   "language": "python",
   "name": "python3"
  },
  "language_info": {
   "codemirror_mode": {
    "name": "ipython",
    "version": 3
   },
   "file_extension": ".py",
   "mimetype": "text/x-python",
   "name": "python",
   "nbconvert_exporter": "python",
   "pygments_lexer": "ipython3",
   "version": "3.12.3"
  }
 },
 "nbformat": 4,
 "nbformat_minor": 5
}
