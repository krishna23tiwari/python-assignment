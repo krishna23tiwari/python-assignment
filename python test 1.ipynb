{
 "cells": [
  {
   "cell_type": "code",
   "execution_count": 2,
   "id": "287ecc5b-7b9a-4258-9fb7-b32df50e8d96",
   "metadata": {},
   "outputs": [
    {
     "name": "stdin",
     "output_type": "stream",
     "text": [
      "enter rows:  5\n"
     ]
    },
    {
     "name": "stdout",
     "output_type": "stream",
     "text": [
      "* * * * * * * * * \n",
      "  * * * * * * * \n",
      "    * * * * * \n",
      "      * * * \n",
      "        * \n"
     ]
    }
   ],
   "source": [
    "'''Q1: create a python program for this pattern\n",
    "\n",
    "    * * * * * * * * * \n",
    "      * * * * * * * \n",
    "        * * * * * \n",
    "          * * * \n",
    "            * '''\n",
    "\n",
    "\n",
    "a = int(input(\"enter rows: \" ))\n",
    "\n",
    "\n",
    "for i in range(a*2+1,1,-1):\n",
    "    if(i%2 != 0):\n",
    "        for j in range(i, a*2+1):\n",
    "            print(\" \",end=\"\")\n",
    "        \n",
    "        for k in range(1,i-1):\n",
    "            print(\"*\",end=\" \")\n",
    "            \n",
    "        print(\"\")"
   ]
  },
  {
   "cell_type": "code",
   "execution_count": 4,
   "id": "86be9957-a8d9-4492-bba3-f11a228b672b",
   "metadata": {},
   "outputs": [
    {
     "name": "stdin",
     "output_type": "stream",
     "text": [
      "enter number 5\n"
     ]
    },
    {
     "name": "stdout",
     "output_type": "stream",
     "text": [
      "*****\n",
      " ****\n",
      "  ***\n",
      "   **\n",
      "    *\n",
      "  **\n",
      " ***\n",
      "****\n",
      "*****\n"
     ]
    }
   ],
   "source": [
    "'''Q2: create a python program for this pattern\n",
    "\n",
    "*****\n",
    " ****\n",
    "  ***\n",
    "   **\n",
    "    *\n",
    "   **\n",
    "  ***\n",
    " ****\n",
    "***** '''\n",
    "\n",
    "\n",
    "\n",
    "\n",
    "a = int(input(\"enter number\"))\n",
    "\n",
    "for i in range(1,a+1,1):\n",
    "    for j in range(1,i):\n",
    "        print(\" \",end=\"\")\n",
    "        \n",
    "    for k in range(i,a+1):\n",
    "        print(\"*\",end=\"\")\n",
    "        \n",
    "    print(\"\")\n",
    "    \n",
    "for i in range(2,a+1,1):\n",
    "    for j in range(1,(a-i)):\n",
    "        print(\" \",end=\"\")\n",
    "        \n",
    "    for k in range(1,i+1):\n",
    "        print(\"*\",end=\"\")\n",
    "        \n",
    "    print(\"\")"
   ]
  },
  {
   "cell_type": "code",
   "execution_count": 5,
   "id": "19b86d58-a7da-4db4-8ae7-0472fa024824",
   "metadata": {},
   "outputs": [
    {
     "name": "stdout",
     "output_type": "stream",
     "text": [
      "True\n"
     ]
    }
   ],
   "source": [
    "''' Q3 write a python program to check if two lists have atleast 2 common elements \n",
    "a= [1,3,6,8,9]\n",
    "b = [3,5,7,10,8] \n",
    "if it has two common elements return true otherwise false '''\n",
    "\n",
    "a = [1,3,6,8,9]\n",
    "b = [3,5,7,10,8]\n",
    "c = 0\n",
    "\n",
    "for i in a:\n",
    "    for j in b:\n",
    "        if i == j :\n",
    "            c += 1 \n",
    "\n",
    "if(c>=2):\n",
    "    print(\"True\")\n",
    "else:\n",
    "    print(\"False\")"
   ]
  },
  {
   "cell_type": "code",
   "execution_count": 6,
   "id": "4934410e-944b-4d12-b397-63ddaf4f8d3f",
   "metadata": {},
   "outputs": [
    {
     "name": "stdout",
     "output_type": "stream",
     "text": [
      "radar string is not symmetrical\n",
      "radar string is palindrome\n"
     ]
    }
   ],
   "source": [
    "'''Q4 write a program that given string in symmetric or not '''\n",
    "\n",
    "string = 'radar'\n",
    "\n",
    "length = len(string)\n",
    "half = length // 2\n",
    "\n",
    "first_str = string[:half]\n",
    "second_str = string[half + length % 2:]\n",
    "\n",
    "\n",
    "if first_str == second_str:\n",
    "    print(string, 'string is symmetrical')\n",
    "else:\n",
    "    print(string, 'string is not symmetrical')\n",
    "\n",
    "if first_str == second_str[::-1]:\n",
    "    print(string, 'string is palindrome')\n",
    "else:\n",
    "    print(string, 'string is not palindrome')\n"
   ]
  },
  {
   "cell_type": "code",
   "execution_count": null,
   "id": "db838710-4e81-40b1-a003-60fe511820a3",
   "metadata": {},
   "outputs": [],
   "source": []
  }
 ],
 "metadata": {
  "kernelspec": {
   "display_name": "Python 3 (ipykernel)",
   "language": "python",
   "name": "python3"
  },
  "language_info": {
   "codemirror_mode": {
    "name": "ipython",
    "version": 3
   },
   "file_extension": ".py",
   "mimetype": "text/x-python",
   "name": "python",
   "nbconvert_exporter": "python",
   "pygments_lexer": "ipython3",
   "version": "3.12.3"
  }
 },
 "nbformat": 4,
 "nbformat_minor": 5
}
