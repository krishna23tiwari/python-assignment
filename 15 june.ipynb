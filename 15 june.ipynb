{
 "cells": [
  {
   "cell_type": "code",
   "execution_count": 1,
   "id": "ea90c33a-9fa4-45fe-a39f-8f223a81b7b3",
   "metadata": {},
   "outputs": [
    {
     "name": "stdin",
     "output_type": "stream",
     "text": [
      "enter rows:  4\n"
     ]
    },
    {
     "name": "stdout",
     "output_type": "stream",
     "text": [
      "123*\n",
      "45**\n",
      "6***\n",
      "****\n"
     ]
    }
   ],
   "source": [
    "a = int(input(\"enter rows: \"))\n",
    "b = 1\n",
    "\n",
    "for i in range(1,a+1):\n",
    "    for j in range(1,(a-i)+1):\n",
    "        print(b,end =\"\")\n",
    "        b += 1\n",
    "        \n",
    "    for k in range(1,i+1):\n",
    "        print(\"*\",end =\"\")\n",
    "    print(\"\")"
   ]
  },
  {
   "cell_type": "code",
   "execution_count": 2,
   "id": "f5d8a836-3a58-4fa7-b5bc-a77c9d2cf1cb",
   "metadata": {},
   "outputs": [
    {
     "name": "stdin",
     "output_type": "stream",
     "text": [
      "enter rows:  4\n"
     ]
    },
    {
     "name": "stdout",
     "output_type": "stream",
     "text": [
      "A B C 1 \n",
      "D E 2 3 \n",
      "F 4 5 6 \n",
      "7 8 9 10 \n"
     ]
    }
   ],
   "source": [
    "a = int(input(\"enter rows: \"))\n",
    "b = 1\n",
    "c = 1\n",
    "for i in range(1,a+1):\n",
    "    for j in range(1,(a-i)+1):\n",
    "        print(chr( 64+c ),end =\" \")\n",
    "        c += 1\n",
    "        \n",
    "    for k in range(1,i+1):\n",
    "        print( b ,end =\" \")\n",
    "        b += 1\n",
    "    print(\"\")"
   ]
  },
  {
   "cell_type": "code",
   "execution_count": 3,
   "id": "be00694c-3923-473c-b3ac-b235ccb8605e",
   "metadata": {},
   "outputs": [
    {
     "name": "stdin",
     "output_type": "stream",
     "text": [
      "enter rows:  4\n"
     ]
    },
    {
     "name": "stdout",
     "output_type": "stream",
     "text": [
      "A B C D 1 \n",
      "A B C 1 2 \n",
      "A B 1 2 3 \n",
      "A 1 2 3 4 \n"
     ]
    }
   ],
   "source": [
    "a = int(input(\"enter rows: \"))\n",
    "\n",
    "for i in range(1,a+1):\n",
    "    for j in range(i,a+1):\n",
    "        print(chr(65+(j-i)) ,end =\" \")\n",
    "        \n",
    "    for k in range(1,i+1):\n",
    "        print(k ,end =\" \")\n",
    "    print(\"\")"
   ]
  },
  {
   "cell_type": "code",
   "execution_count": 4,
   "id": "44430c2e-2c79-4e8c-8033-1e6f29e041cb",
   "metadata": {},
   "outputs": [
    {
     "name": "stdin",
     "output_type": "stream",
     "text": [
      "enter rows:  4\n"
     ]
    },
    {
     "name": "stdout",
     "output_type": "stream",
     "text": [
      "        A \n",
      "      B C \n",
      "    D E F \n",
      "  G H I J \n"
     ]
    }
   ],
   "source": [
    "a = int(input(\"enter rows: \"))\n",
    "b = 1\n",
    "for i in range(1,a+1):\n",
    "    for j in range(i,a+1):\n",
    "        print(\" \",end =\" \")\n",
    "    \n",
    "    for k in range(1,i+1):\n",
    "        print(chr(64+b) ,end =\" \")\n",
    "        b += 1\n",
    "    print(\"\")"
   ]
  },
  {
   "cell_type": "code",
   "execution_count": 5,
   "id": "fbcfe464-31f8-4c8c-a111-726cd1698bda",
   "metadata": {},
   "outputs": [
    {
     "name": "stdin",
     "output_type": "stream",
     "text": [
      "enter rows:  5\n"
     ]
    },
    {
     "name": "stdout",
     "output_type": "stream",
     "text": [
      "  * * * * *\n",
      "   * * * *\n",
      "    * * *\n",
      "     * *\n",
      "      *\n"
     ]
    }
   ],
   "source": [
    "a = int(input(\"enter rows: \"))\n",
    "\n",
    "for i in range(1,a+1):\n",
    "    for j in range(1,i+1):\n",
    "        print(\" \",end =\"\")\n",
    "    \n",
    "    for k in range(1,(a-i)+2):\n",
    "        print(\" *\", end=\"\")\n",
    "    print(\"\")"
   ]
  },
  {
   "cell_type": "code",
   "execution_count": 6,
   "id": "d1934d54-5e34-4fa3-92c2-448c6bef2e29",
   "metadata": {},
   "outputs": [
    {
     "name": "stdin",
     "output_type": "stream",
     "text": [
      "enter rows:  4\n"
     ]
    },
    {
     "name": "stdout",
     "output_type": "stream",
     "text": [
      "* * * *  \n",
      "* * *  \n",
      "* *  \n",
      "*  \n"
     ]
    }
   ],
   "source": [
    "a = int(input(\"enter rows: \"))\n",
    "\n",
    "for i in range(a+1,1,-1):\n",
    "    for j in range(1,i):\n",
    "        print(\"*\",end=\" \")\n",
    "    print(\" \")"
   ]
  },
  {
   "cell_type": "code",
   "execution_count": 7,
   "id": "09ab6eb5-68dd-47ff-aec0-a19d3ca91967",
   "metadata": {},
   "outputs": [
    {
     "name": "stdin",
     "output_type": "stream",
     "text": [
      "enter rows:  4\n"
     ]
    },
    {
     "name": "stdout",
     "output_type": "stream",
     "text": [
      "****\n",
      " ***\n",
      "  **\n",
      "   *\n"
     ]
    }
   ],
   "source": [
    "a = int(input(\"enter rows: \"))\n",
    "\n",
    "for i in range(a+1,1,-1):\n",
    "    for j in range(i,a+1):\n",
    "        print(\" \",end=\"\")\n",
    "        \n",
    "    for k in range(1,i):\n",
    "        print(\"*\",end=\"\")\n",
    "    print(\"\")"
   ]
  },
  {
   "cell_type": "code",
   "execution_count": 9,
   "id": "e1a4c72d-6819-4971-9281-15e6826f4bfd",
   "metadata": {},
   "outputs": [
    {
     "name": "stdin",
     "output_type": "stream",
     "text": [
      "enter rows:  4\n"
     ]
    },
    {
     "name": "stdout",
     "output_type": "stream",
     "text": [
      "10  \n",
      "11 12  \n",
      "13 14 15  \n",
      "16 17 18 19  \n"
     ]
    }
   ],
   "source": [
    "a = int(input(\"enter rows: \"))\n",
    "b = 10\n",
    "for i in range(1,a+1):\n",
    "    for j in range(1,i+1):\n",
    "        print(b,end=\" \")\n",
    "        b += 1\n",
    "        \n",
    "    print(\" \")"
   ]
  },
  {
   "cell_type": "code",
   "execution_count": 10,
   "id": "23bb2618-6173-4ed5-9880-39400b95a660",
   "metadata": {},
   "outputs": [
    {
     "name": "stdin",
     "output_type": "stream",
     "text": [
      "enter rows:  4\n"
     ]
    },
    {
     "name": "stdout",
     "output_type": "stream",
     "text": [
      "10  \n",
      "10 11  \n",
      "10 11 12  \n",
      "10 11 12 13  \n"
     ]
    }
   ],
   "source": [
    "a = int(input(\"enter rows: \"))\n",
    "b = 9\n",
    "for i in range(1,a+1):\n",
    "    for j in range(1,i+1):\n",
    "        print(b+j,end=\" \")\n",
    "    \n",
    "        \n",
    "    print(\" \")"
   ]
  },
  {
   "cell_type": "code",
   "execution_count": 11,
   "id": "1872ede8-aa10-4073-8ffc-22d21880fc3e",
   "metadata": {},
   "outputs": [
    {
     "name": "stdin",
     "output_type": "stream",
     "text": [
      "enter rows:  4\n"
     ]
    },
    {
     "name": "stdout",
     "output_type": "stream",
     "text": [
      "1  \n",
      "1 2  \n",
      "1 2 1  \n",
      "1 2 1 2  \n"
     ]
    }
   ],
   "source": [
    "a = int(input(\"enter rows: \"))\n",
    "\n",
    "for i in range(1,a+1):\n",
    "    for j in range(1,i+1):\n",
    "        if(j%2 == 0):\n",
    "            print(\"2\",end=\" \")\n",
    "        else:\n",
    "            print(\"1\",end=\" \")\n",
    "    \n",
    "    print(\" \")"
   ]
  },
  {
   "cell_type": "code",
   "execution_count": 12,
   "id": "ebc8e8b4-14c7-48a1-b349-a9faaab69371",
   "metadata": {},
   "outputs": [
    {
     "name": "stdin",
     "output_type": "stream",
     "text": [
      "enter rows:  5\n"
     ]
    },
    {
     "name": "stdout",
     "output_type": "stream",
     "text": [
      "A  \n",
      "A B  \n",
      "A B C  \n",
      "A B C D  \n",
      "A B C D E  \n"
     ]
    }
   ],
   "source": [
    "a = int(input(\"enter rows: \"))\n",
    "\n",
    "for i in range(1,a+1):\n",
    "    for j in range(1,i+1):\n",
    "        print(chr(64+j),end=\" \")\n",
    "    \n",
    "    print(\" \")"
   ]
  },
  {
   "cell_type": "code",
   "execution_count": 13,
   "id": "9047d282-e9f4-47eb-a661-5d1f6c739ff9",
   "metadata": {},
   "outputs": [
    {
     "name": "stdin",
     "output_type": "stream",
     "text": [
      "enter rows:  4\n"
     ]
    },
    {
     "name": "stdout",
     "output_type": "stream",
     "text": [
      "D  \n",
      "D C  \n",
      "D C B  \n",
      "D C B A  \n"
     ]
    }
   ],
   "source": [
    "a = int(input(\"enter rows: \"))\n",
    "\n",
    "for i in range(1,a+1):\n",
    "    for j in range(1,i+1):\n",
    "        print(chr(69-j),end=\" \")\n",
    "    \n",
    "    print(\" \")"
   ]
  },
  {
   "cell_type": "code",
   "execution_count": 14,
   "id": "a22f5047-151b-4917-a14a-eadff2a71874",
   "metadata": {},
   "outputs": [
    {
     "name": "stdin",
     "output_type": "stream",
     "text": [
      "enter rows:  4\n"
     ]
    },
    {
     "name": "stdout",
     "output_type": "stream",
     "text": [
      "F  \n",
      "H J  \n",
      "L N P  \n",
      "R T V X  \n"
     ]
    }
   ],
   "source": [
    "a = int(input(\"enter rows: \"))\n",
    "b = 1\n",
    "for i in range(1,a+1):\n",
    "    for j in range(1,i+1):\n",
    "        print(chr(69+b),end=\" \")\n",
    "        b += 2\n",
    "    \n",
    "    print(\" \")"
   ]
  },
  {
   "cell_type": "code",
   "execution_count": 15,
   "id": "22f08e9e-8267-4def-bc46-06c98a4fe4ba",
   "metadata": {},
   "outputs": [
    {
     "name": "stdin",
     "output_type": "stream",
     "text": [
      "enter rows:  4\n"
     ]
    },
    {
     "name": "stdout",
     "output_type": "stream",
     "text": [
      "D C B A  \n",
      "D C B  \n",
      "D C  \n",
      "D  \n"
     ]
    }
   ],
   "source": [
    "a = int(input(\"enter rows: \"))\n",
    "\n",
    "for i in range(a+1,1,-1):\n",
    "    for j in range(1,i):\n",
    "        print(chr(69-j),end=\" \")\n",
    "    print(\" \")"
   ]
  },
  {
   "cell_type": "code",
   "execution_count": 16,
   "id": "8a44267e-ea53-412f-b446-f70f3de44252",
   "metadata": {},
   "outputs": [
    {
     "name": "stdin",
     "output_type": "stream",
     "text": [
      "enter rows:  5\n"
     ]
    },
    {
     "name": "stdout",
     "output_type": "stream",
     "text": [
      "*  \n",
      "* *  \n",
      "* * *  \n",
      "* * * *  \n",
      "* * * * *  \n"
     ]
    }
   ],
   "source": [
    "a = int(input(\"enter rows: \"))\n",
    "\n",
    "for i in range(1,a+1):\n",
    "    for j in range(1,i+1):\n",
    "        print(\"*\",end=\" \")\n",
    "    print(\" \")"
   ]
  },
  {
   "cell_type": "code",
   "execution_count": 17,
   "id": "ebfd23bd-6ee8-4ca8-8f6a-abf7b5040992",
   "metadata": {},
   "outputs": [
    {
     "name": "stdin",
     "output_type": "stream",
     "text": [
      "enter rows:  4\n"
     ]
    },
    {
     "name": "stdout",
     "output_type": "stream",
     "text": [
      "1  \n",
      "1 2  \n",
      "1 2 3  \n",
      "1 2 3 4  \n"
     ]
    }
   ],
   "source": [
    "a = int(input(\"enter rows: \"))\n",
    "\n",
    "for i in range(1,a+1):\n",
    "    for j in range(1,i+1):\n",
    "        print(j,end=\" \")\n",
    "        \n",
    "    print(\" \")"
   ]
  },
  {
   "cell_type": "code",
   "execution_count": 18,
   "id": "c250bdcf-5f7b-4d9b-9e8b-c77521fbcc38",
   "metadata": {},
   "outputs": [
    {
     "name": "stdin",
     "output_type": "stream",
     "text": [
      "enter rows:  4\n"
     ]
    },
    {
     "name": "stdout",
     "output_type": "stream",
     "text": [
      "1  \n",
      "2 3  \n",
      "4 5 6  \n",
      "7 8 9 10  \n"
     ]
    }
   ],
   "source": [
    "a = int(input(\"enter rows: \"))\n",
    "b = 1\n",
    "\n",
    "for i in range(1,a+1):\n",
    "    for j in range(1,i+1):\n",
    "        print(b,end=\" \")\n",
    "        b += 1\n",
    "        \n",
    "    print(\" \")"
   ]
  },
  {
   "cell_type": "code",
   "execution_count": 19,
   "id": "31fd2e85-b574-401d-9ff2-beff5b01d889",
   "metadata": {},
   "outputs": [
    {
     "name": "stdin",
     "output_type": "stream",
     "text": [
      "enter rows:  4\n"
     ]
    },
    {
     "name": "stdout",
     "output_type": "stream",
     "text": [
      "1  \n",
      "2 2  \n",
      "3 3 3  \n",
      "4 4 4 4  \n"
     ]
    }
   ],
   "source": [
    "a = int(input(\"enter rows: \"))\n",
    "\n",
    "for i in range(1,a+1):\n",
    "    for j in range(1,i+1):\n",
    "        print(i,end=\" \")\n",
    "        \n",
    "    print(\" \")"
   ]
  },
  {
   "cell_type": "code",
   "execution_count": 20,
   "id": "1a682097-a8f6-4175-a23d-0af0b5bc3263",
   "metadata": {},
   "outputs": [
    {
     "name": "stdin",
     "output_type": "stream",
     "text": [
      "enter rows:  4\n"
     ]
    },
    {
     "name": "stdout",
     "output_type": "stream",
     "text": [
      "1 2 3 4  \n",
      "1 2 3  \n",
      "1 2  \n",
      "1  \n"
     ]
    }
   ],
   "source": [
    "a = int(input(\"enter rows: \"))\n",
    "\n",
    "for i in range(a+1,1,-1):\n",
    "    for j in range(1,i):\n",
    "        print(j,end=\" \")\n",
    "    print(\" \")"
   ]
  },
  {
   "cell_type": "code",
   "execution_count": 21,
   "id": "5c9b64bc-b1fe-4850-88a2-ee338d1863ca",
   "metadata": {},
   "outputs": [
    {
     "name": "stdin",
     "output_type": "stream",
     "text": [
      "enter rows:  4\n"
     ]
    },
    {
     "name": "stdout",
     "output_type": "stream",
     "text": [
      "3 2 1 0  \n",
      "3 2 1  \n",
      "3 2  \n",
      "3  \n"
     ]
    }
   ],
   "source": [
    "a = int(input(\"enter rows: \"))\n",
    "\n",
    "for i in range(a+1,1,-1):\n",
    "    for j in range(1,i):\n",
    "        print(a-j,end=\" \")\n",
    "        \n",
    "    print(\" \")"
   ]
  },
  {
   "cell_type": "code",
   "execution_count": 22,
   "id": "49dea47e-e876-4d0e-9c35-18c129d52797",
   "metadata": {},
   "outputs": [
    {
     "name": "stdin",
     "output_type": "stream",
     "text": [
      "enter rows:  4\n"
     ]
    },
    {
     "name": "stdout",
     "output_type": "stream",
     "text": [
      "A B C D  \n",
      "A B C  \n",
      "A B  \n",
      "A  \n"
     ]
    }
   ],
   "source": [
    "a = int(input(\"enter rows: \"))\n",
    "\n",
    "for i in range(a+1,1,-1):\n",
    "    for j in range(1,i):\n",
    "        print(chr(64+j),end=\" \")\n",
    "        \n",
    "    print(\" \")"
   ]
  },
  {
   "cell_type": "code",
   "execution_count": 23,
   "id": "55fecbed-7952-4cc5-9b7c-b02bb3d30050",
   "metadata": {},
   "outputs": [
    {
     "name": "stdin",
     "output_type": "stream",
     "text": [
      "enter rows:  6\n"
     ]
    },
    {
     "name": "stdout",
     "output_type": "stream",
     "text": [
      "F E D C B A  \n",
      "F E D C B  \n",
      "F E D C  \n",
      "F E D  \n",
      "F E  \n",
      "F  \n"
     ]
    }
   ],
   "source": [
    "a = int(input(\"enter rows: \"))\n",
    "\n",
    "for i in range(a+1,1,-1):\n",
    "    for j in range(1,i):\n",
    "        print(chr(71-j),end=\" \")\n",
    "        \n",
    "    print(\" \")"
   ]
  },
  {
   "cell_type": "code",
   "execution_count": 24,
   "id": "3c4eaec7-a297-4765-bc76-c27dcd1a513c",
   "metadata": {},
   "outputs": [
    {
     "name": "stdin",
     "output_type": "stream",
     "text": [
      "enter rows:  4\n"
     ]
    },
    {
     "name": "stdout",
     "output_type": "stream",
     "text": [
      "A  \n",
      "A B  \n",
      "A B C  \n",
      "A B C D  \n"
     ]
    }
   ],
   "source": [
    "a = int(input(\"enter rows: \"))\n",
    "\n",
    "for i in range(1,a+1):\n",
    "    for j in range(1,i+1):\n",
    "        print(chr(64+j),end=\" \")\n",
    "        \n",
    "    print(\" \")"
   ]
  },
  {
   "cell_type": "code",
   "execution_count": null,
   "id": "a0335f24-be6a-493d-a936-038fc8a992ce",
   "metadata": {},
   "outputs": [],
   "source": []
  }
 ],
 "metadata": {
  "kernelspec": {
   "display_name": "Python 3 (ipykernel)",
   "language": "python",
   "name": "python3"
  },
  "language_info": {
   "codemirror_mode": {
    "name": "ipython",
    "version": 3
   },
   "file_extension": ".py",
   "mimetype": "text/x-python",
   "name": "python",
   "nbconvert_exporter": "python",
   "pygments_lexer": "ipython3",
   "version": "3.12.3"
  }
 },
 "nbformat": 4,
 "nbformat_minor": 5
}
