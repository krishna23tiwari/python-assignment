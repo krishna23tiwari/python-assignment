{
 "cells": [
  {
   "cell_type": "code",
   "execution_count": 1,
   "id": "f59471e2-0f30-4909-b660-2e40d3bf22b0",
   "metadata": {},
   "outputs": [
    {
     "name": "stdin",
     "output_type": "stream",
     "text": [
      "enter rows:  5\n"
     ]
    },
    {
     "name": "stdout",
     "output_type": "stream",
     "text": [
      "    A \n",
      "   A B \n",
      "  A B C \n",
      " A B C D \n",
      "A B C D E \n"
     ]
    }
   ],
   "source": [
    "a = int(input(\"enter rows: \"))\n",
    "\n",
    "for i in range(1,a+1):\n",
    "    for j in range(1,(a-i)+1):\n",
    "        print(\" \",end =\"\")\n",
    "        \n",
    "    for k in range(1,i+1 ):\n",
    "        print(chr(64+k),end=\" \")\n",
    "        \n",
    "    print(\"\")"
   ]
  },
  {
   "cell_type": "code",
   "execution_count": 2,
   "id": "c81b004f-128a-497d-babc-a3f75041b537",
   "metadata": {},
   "outputs": [
    {
     "name": "stdin",
     "output_type": "stream",
     "text": [
      "enter rows:  4\n"
     ]
    },
    {
     "name": "stdout",
     "output_type": "stream",
     "text": [
      "   10 \n",
      "  11 11 \n",
      " 12 12 12 \n",
      "13 13 13 13 \n"
     ]
    }
   ],
   "source": [
    "a = int(input(\"enter rows: \"))\n",
    "b = 9\n",
    "for i in range(1,a+1):\n",
    "    for j in range(1,(a-i)+1):\n",
    "        print(\" \",end =\"\")\n",
    "        \n",
    "    for k in range(1,i+1 ):\n",
    "        print(b+i,end=\" \")\n",
    "        \n",
    "    print(\"\")"
   ]
  },
  {
   "cell_type": "code",
   "execution_count": 3,
   "id": "c8cf9953-a216-4595-9e06-d1cf53ee21e4",
   "metadata": {},
   "outputs": [
    {
     "name": "stdin",
     "output_type": "stream",
     "text": [
      "enter rows:  3\n"
     ]
    },
    {
     "name": "stdout",
     "output_type": "stream",
     "text": [
      "    A \n",
      "  A B C \n",
      "A B C D E \n"
     ]
    }
   ],
   "source": [
    "a = int(input(\"enter rows: \"))\n",
    "\n",
    "for i in range(1,a*2):\n",
    "    if(i%2 != 0):\n",
    "        for j in range(1,a*2-i):\n",
    "            print(\" \",end =\"\")\n",
    "        \n",
    "        for k in range(1,i+1):\n",
    "            print(chr(64+k),end=\" \")\n",
    "        \n",
    "        print(\"\")"
   ]
  },
  {
   "cell_type": "code",
   "execution_count": 4,
   "id": "444dcd51-d622-459e-adb8-ab613897c761",
   "metadata": {},
   "outputs": [
    {
     "name": "stdin",
     "output_type": "stream",
     "text": [
      "enter rows:  3\n"
     ]
    },
    {
     "name": "stdout",
     "output_type": "stream",
     "text": [
      "* * * * * \n",
      "  * * * \n",
      "    * \n"
     ]
    }
   ],
   "source": [
    "a = int(input(\"enter rows: \" ))\n",
    "\n",
    "for i in range(a*2+1,1,-1):\n",
    "    if(i%2 != 0):\n",
    "        for j in range(i, a*2+1):\n",
    "            print(\" \",end=\"\")\n",
    "        \n",
    "        for k in range(1,i-1):\n",
    "            print(\"*\",end=\" \")\n",
    "\n",
    "        print(\"\")"
   ]
  },
  {
   "cell_type": "code",
   "execution_count": 5,
   "id": "1a0f1ed4-6791-4800-8e4c-8b20a7fec9ce",
   "metadata": {},
   "outputs": [
    {
     "name": "stdin",
     "output_type": "stream",
     "text": [
      "enter rows:  3\n"
     ]
    },
    {
     "name": "stdout",
     "output_type": "stream",
     "text": [
      "* * * \n",
      " * * \n",
      "  * \n"
     ]
    }
   ],
   "source": [
    "a = int(input(\"enter rows: \" ))\n",
    "\n",
    "for i in range(a+1,1,-1):\n",
    "        for j in range(i, a+1):\n",
    "            print(\" \",end=\"\")\n",
    "        \n",
    "        for k in range(1,i):\n",
    "            print(\"*\",end=\" \")\n",
    "\n",
    "        print(\"\")"
   ]
  },
  {
   "cell_type": "code",
   "execution_count": null,
   "id": "e1c3800a-85d8-4761-b884-9f33a43df755",
   "metadata": {},
   "outputs": [],
   "source": []
  }
 ],
 "metadata": {
  "kernelspec": {
   "display_name": "Python 3 (ipykernel)",
   "language": "python",
   "name": "python3"
  },
  "language_info": {
   "codemirror_mode": {
    "name": "ipython",
    "version": 3
   },
   "file_extension": ".py",
   "mimetype": "text/x-python",
   "name": "python",
   "nbconvert_exporter": "python",
   "pygments_lexer": "ipython3",
   "version": "3.12.3"
  }
 },
 "nbformat": 4,
 "nbformat_minor": 5
}
