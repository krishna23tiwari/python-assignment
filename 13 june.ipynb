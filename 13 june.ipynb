{
 "cells": [
  {
   "cell_type": "code",
   "execution_count": 2,
   "id": "2822920c-f818-42fd-a403-e3aa1bdefc53",
   "metadata": {},
   "outputs": [
    {
     "name": "stdin",
     "output_type": "stream",
     "text": [
      "enter rows:  3\n"
     ]
    },
    {
     "name": "stdout",
     "output_type": "stream",
     "text": [
      "Z  \n",
      "X V  \n",
      "T R P  \n"
     ]
    }
   ],
   "source": [
    "a = int(input(\"enter rows: \"))\n",
    "n = 1\n",
    "for i in range(0,a,1):\n",
    "    for j in range(0,i+1):\n",
    "        print(chr(91-n),end=\" \")\n",
    "        n += 2\n",
    "    print(\" \")"
   ]
  },
  {
   "cell_type": "code",
   "execution_count": 3,
   "id": "93006e3e-8aa2-4c3c-86e1-c422ffde5970",
   "metadata": {},
   "outputs": [
    {
     "name": "stdin",
     "output_type": "stream",
     "text": [
      "enter rows:  4\n"
     ]
    },
    {
     "name": "stdout",
     "output_type": "stream",
     "text": [
      "A  \n",
      "B C  \n",
      "D E F  \n",
      "G H I J  \n"
     ]
    }
   ],
   "source": [
    "a = int(input(\"enter rows: \"))\n",
    "n = 1\n",
    "for i in range(0,a,1):\n",
    "    for j in range(0,i+1):\n",
    "        print(chr(64+n),end=\" \")\n",
    "        n += 1\n",
    "    print(\" \")"
   ]
  },
  {
   "cell_type": "code",
   "execution_count": 4,
   "id": "f1b0c0df-4335-4873-8ce1-344f8b2742d2",
   "metadata": {},
   "outputs": [
    {
     "name": "stdin",
     "output_type": "stream",
     "text": [
      "enter rows:  3\n"
     ]
    },
    {
     "name": "stdout",
     "output_type": "stream",
     "text": [
      "A  \n",
      "A B  \n",
      "A B C  \n"
     ]
    }
   ],
   "source": [
    "a = int(input(\"enter rows: \"))\n",
    "\n",
    "for i in range(0,a,1):\n",
    "    for j in range(0,i+1):\n",
    "        print(chr(65+j),end=\" \")\n",
    "    print(\" \")"
   ]
  },
  {
   "cell_type": "code",
   "execution_count": 5,
   "id": "e4d28134-11f4-45e3-9c54-45213bb0eb71",
   "metadata": {},
   "outputs": [
    {
     "name": "stdin",
     "output_type": "stream",
     "text": [
      "enter rows:  3\n"
     ]
    },
    {
     "name": "stdout",
     "output_type": "stream",
     "text": [
      "1  \n",
      "1 2  \n",
      "1 2 3  \n"
     ]
    }
   ],
   "source": [
    "a = int(input(\"enter rows: \"))\n",
    "\n",
    "for i in range(1,a+1,1):\n",
    "    for j in range(1,i+1):\n",
    "        print((j),end=\" \")\n",
    "    print(\" \")"
   ]
  },
  {
   "cell_type": "code",
   "execution_count": 6,
   "id": "dd786ece-1871-4543-ba3c-88db420b83f8",
   "metadata": {},
   "outputs": [
    {
     "name": "stdin",
     "output_type": "stream",
     "text": [
      "enter rows:  3\n"
     ]
    },
    {
     "name": "stdout",
     "output_type": "stream",
     "text": [
      "1  \n",
      "2 3  \n",
      "4 5 6  \n"
     ]
    }
   ],
   "source": [
    "a = int(input(\"enter rows: \"))\n",
    "n = 1\n",
    "for i in range(1,a+1,1):\n",
    "    for j in range(1,i+1):\n",
    "        print((n),end=\" \")\n",
    "        n += 1\n",
    "    print(\" \")"
   ]
  },
  {
   "cell_type": "code",
   "execution_count": 7,
   "id": "1dc2c098-dd90-416e-a9c3-47e302d44507",
   "metadata": {},
   "outputs": [
    {
     "name": "stdin",
     "output_type": "stream",
     "text": [
      "enter rows:  4\n"
     ]
    },
    {
     "name": "stdout",
     "output_type": "stream",
     "text": [
      "10  \n",
      "9 8  \n",
      "7 6 5  \n",
      "4 3 2 1  \n"
     ]
    }
   ],
   "source": [
    "a = int(input(\"enter rows: \"))\n",
    "n = 10\n",
    "for i in range(1,a+1,1):\n",
    "    for j in range(1,i+1):\n",
    "        print((n),end=\" \")\n",
    "        n -= 1\n",
    "    print(\" \")"
   ]
  },
  {
   "cell_type": "code",
   "execution_count": 8,
   "id": "09dc2840-1507-4690-9152-9fd671c7ba9a",
   "metadata": {},
   "outputs": [
    {
     "name": "stdin",
     "output_type": "stream",
     "text": [
      "enter rows:  6\n"
     ]
    },
    {
     "name": "stdout",
     "output_type": "stream",
     "text": [
      "*            \n",
      "* *          \n",
      "*   *        \n",
      "*     *      \n",
      "*       *    \n",
      "* * * * * *  \n"
     ]
    }
   ],
   "source": [
    "a = int(input(\"enter rows: \"))\n",
    "\n",
    "for i in range(1,a+1,1):\n",
    "    for j in range(1,a+1,1):\n",
    "        if(i==j or i ==a or j ==1):\n",
    "            print(\"*\",end=\" \")\n",
    "        else:\n",
    "            print(\" \",end=\" \")\n",
    "            \n",
    "    print(\" \")        "
   ]
  },
  {
   "cell_type": "code",
   "execution_count": null,
   "id": "9f5a4fad-28d0-4f0c-9af2-1d08efed0fc2",
   "metadata": {},
   "outputs": [],
   "source": []
  }
 ],
 "metadata": {
  "kernelspec": {
   "display_name": "Python 3 (ipykernel)",
   "language": "python",
   "name": "python3"
  },
  "language_info": {
   "codemirror_mode": {
    "name": "ipython",
    "version": 3
   },
   "file_extension": ".py",
   "mimetype": "text/x-python",
   "name": "python",
   "nbconvert_exporter": "python",
   "pygments_lexer": "ipython3",
   "version": "3.12.3"
  }
 },
 "nbformat": 4,
 "nbformat_minor": 5
}
