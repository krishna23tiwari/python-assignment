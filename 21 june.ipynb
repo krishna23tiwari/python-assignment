{
 "cells": [
  {
   "cell_type": "code",
   "execution_count": 6,
   "id": "f8a315fd-065f-4693-b619-dd32e2d6d20b",
   "metadata": {},
   "outputs": [
    {
     "name": "stdin",
     "output_type": "stream",
     "text": [
      "Enter the string:  )(}}{\n"
     ]
    },
    {
     "name": "stdout",
     "output_type": "stream",
     "text": [
      "Invalid\n"
     ]
    }
   ],
   "source": [
    "a = input(\"Enter the string: \")\n",
    "b = []\n",
    "dic = {')': '(', '}': '{', ']': '['}\n",
    "\n",
    "value = True\n",
    "\n",
    "for i in a:\n",
    "    if i in dic.values():\n",
    "        b.append(i)\n",
    "    elif i in dic.keys():\n",
    "        if b and b[-1] == dic[i]:\n",
    "            b.pop()\n",
    "        else:\n",
    "            value = False\n",
    "            break\n",
    "\n",
    "if b:\n",
    "    value = False\n",
    "\n",
    "if value:\n",
    "    print(\"Valid\")\n",
    "else:\n",
    "    print(\"Invalid\")\n"
   ]
  },
  {
   "cell_type": "code",
   "execution_count": 9,
   "id": "b25b49af-e2cf-4213-a99b-fd7fa4ad4039",
   "metadata": {},
   "outputs": [
    {
     "name": "stdout",
     "output_type": "stream",
     "text": [
      "regeX softwarE\n"
     ]
    }
   ],
   "source": [
    "a = \"regex software\"\n",
    "b = list(a.split())\n",
    "for i in range(len(b)):\n",
    "    b[i]=b[i].replace(b[i][-1],b[i][-1].upper())\n",
    "\n",
    "print(' '.join(b))"
   ]
  },
  {
   "cell_type": "code",
   "execution_count": 15,
   "id": "e0d59716-c5b5-415a-a549-75f4a4c1a6ef",
   "metadata": {},
   "outputs": [
    {
     "name": "stdin",
     "output_type": "stream",
     "text": [
      "enter number:  121\n"
     ]
    },
    {
     "name": "stdout",
     "output_type": "stream",
     "text": [
      "not\n"
     ]
    }
   ],
   "source": [
    "a = int(input(\"enter number: \"))\n",
    "rem = 0\n",
    "sum = 0\n",
    "tmp = a\n",
    "\n",
    "while(a>0):\n",
    "    rem = a%10\n",
    "    sum += rem**3\n",
    "    a = a//10\n",
    "    \n",
    "if(tmp == sum):\n",
    "    print(\"armstrong\")\n",
    "else:\n",
    "    print(\"not\")\n"
   ]
  },
  {
   "cell_type": "code",
   "execution_count": 11,
   "id": "3df8d91b-ded3-49f1-80c5-8a4516997352",
   "metadata": {},
   "outputs": [
    {
     "name": "stdin",
     "output_type": "stream",
     "text": [
      "enter number:  10\n"
     ]
    },
    {
     "name": "stdout",
     "output_type": "stream",
     "text": [
      "0 1 1 2 3 5 8 13 21 34 "
     ]
    }
   ],
   "source": [
    "a = int(input(\"enter number: \"))\n",
    "n1 = 0\n",
    "n2 = 1\n",
    "print(n1,n2, end =\" \")\n",
    "\n",
    "for i in range(2,a):\n",
    "    n3 = n1+n2\n",
    "    n1 = n2\n",
    "    n2 = n3\n",
    "    print(n3,end=\" \")\n",
    "    \n",
    "\n"
   ]
  },
  {
   "cell_type": "code",
   "execution_count": 13,
   "id": "4d75668d-d3aa-47a9-8c8f-b86de3dff2b0",
   "metadata": {},
   "outputs": [
    {
     "name": "stdin",
     "output_type": "stream",
     "text": [
      "Enter a value: 153\n"
     ]
    },
    {
     "name": "stdout",
     "output_type": "stream",
     "text": [
      "not a palindrome number!\n"
     ]
    }
   ],
   "source": [
    "a = int(input(\"Enter a value:\"))  \n",
    "tmp = a  \n",
    "rem = 0\n",
    "sum1 = 0\n",
    "\n",
    "while(a > 0):  \n",
    "    b = a % 10  \n",
    "    sum1 = sum1 * 10 + b  \n",
    "    a = a // 10  \n",
    "if(tmp == sum1):  \n",
    "    print(\"palindrome\")  \n",
    "else:  \n",
    "    print(\"not a palindrome number!\")  "
   ]
  },
  {
   "cell_type": "code",
   "execution_count": null,
   "id": "5462727f-eee9-44a7-bd7d-6a480fb7950e",
   "metadata": {},
   "outputs": [],
   "source": []
  }
 ],
 "metadata": {
  "kernelspec": {
   "display_name": "Python 3 (ipykernel)",
   "language": "python",
   "name": "python3"
  },
  "language_info": {
   "codemirror_mode": {
    "name": "ipython",
    "version": 3
   },
   "file_extension": ".py",
   "mimetype": "text/x-python",
   "name": "python",
   "nbconvert_exporter": "python",
   "pygments_lexer": "ipython3",
   "version": "3.12.3"
  }
 },
 "nbformat": 4,
 "nbformat_minor": 5
}
