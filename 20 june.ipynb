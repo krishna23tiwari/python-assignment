{
 "cells": [
  {
   "cell_type": "code",
   "execution_count": null,
   "id": "7fd8ecf9-015f-46b8-9a36-11f723f81f1f",
   "metadata": {},
   "outputs": [],
   "source": [
    "a = [1,2,3,4,5,6,7,2,3,4,5,6,7,8,3,4,5,6,7,8,9]\n",
    "x = 0\n",
    "b = int(input(\"enter number: \"))\n",
    "\n",
    "for i in range(0,b):\n",
    "    x = x + a[i]\n",
    "        \n",
    "print(x)\n",
    "        "
   ]
  }
 ],
 "metadata": {
  "kernelspec": {
   "display_name": "Python 3 (ipykernel)",
   "language": "python",
   "name": "python3"
  },
  "language_info": {
   "codemirror_mode": {
    "name": "ipython",
    "version": 3
   },
   "file_extension": ".py",
   "mimetype": "text/x-python",
   "name": "python",
   "nbconvert_exporter": "python",
   "pygments_lexer": "ipython3",
   "version": "3.12.3"
  }
 },
 "nbformat": 4,
 "nbformat_minor": 5
}
