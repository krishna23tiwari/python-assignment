{
 "cells": [
  {
   "cell_type": "code",
   "execution_count": 6,
   "id": "7fd8ecf9-015f-46b8-9a36-11f723f81f1f",
   "metadata": {},
   "outputs": [
    {
     "name": "stdin",
     "output_type": "stream",
     "text": [
      "Enter the day number:  35\n"
     ]
    },
    {
     "name": "stdout",
     "output_type": "stream",
     "text": [
      "Total savings 210\n"
     ]
    }
   ],
   "source": [
    "a = int(input(\"Enter the day number: \"))\n",
    "\n",
    "b = 0\n",
    "\n",
    "for i in range(1, a+1):\n",
    "    \n",
    "    week = (i - 1) // 7 + 1\n",
    "    days = (i - 1) % 7 + 1\n",
    "    \n",
    "    savings = week + days - 1\n",
    "    \n",
    "    b += savings\n",
    "\n",
    "\n",
    "print(\"Total savings\",b)"
   ]
  },
  {
   "cell_type": "code",
   "execution_count": null,
   "id": "12b80072-53a4-4dee-8b4b-178e533dd9d2",
   "metadata": {},
   "outputs": [],
   "source": []
  }
 ],
 "metadata": {
  "kernelspec": {
   "display_name": "Python 3 (ipykernel)",
   "language": "python",
   "name": "python3"
  },
  "language_info": {
   "codemirror_mode": {
    "name": "ipython",
    "version": 3
   },
   "file_extension": ".py",
   "mimetype": "text/x-python",
   "name": "python",
   "nbconvert_exporter": "python",
   "pygments_lexer": "ipython3",
   "version": "3.12.3"
  }
 },
 "nbformat": 4,
 "nbformat_minor": 5
}
