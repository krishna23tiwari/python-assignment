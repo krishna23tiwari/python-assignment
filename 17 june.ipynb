{
 "cells": [
  {
   "cell_type": "code",
   "execution_count": 1,
   "id": "00561613-e7d2-462c-9142-cecfabec9534",
   "metadata": {},
   "outputs": [
    {
     "name": "stdin",
     "output_type": "stream",
     "text": [
      "enter rows:  5\n"
     ]
    },
    {
     "name": "stdout",
     "output_type": "stream",
     "text": [
      "    A \n",
      "   A B \n",
      "  A B C \n",
      " A B C D \n",
      "A B C D E \n"
     ]
    }
   ],
   "source": [
    "a = int(input(\"enter rows: \"))\n",
    "\n",
    "for i in range(1,a+1):\n",
    "    for j in range(1,(a-i)+1):\n",
    "        print(\" \",end =\"\")\n",
    "        \n",
    "    for k in range(1,i+1 ):\n",
    "        print(chr(64+k),end=\" \")\n",
    "        \n",
    "    print(\"\")"
   ]
  },
  {
   "cell_type": "code",
   "execution_count": 2,
   "id": "f723680a-da10-4fdb-bd44-7c6f01607efd",
   "metadata": {},
   "outputs": [
    {
     "name": "stdin",
     "output_type": "stream",
     "text": [
      "enter rows:  4\n"
     ]
    },
    {
     "name": "stdout",
     "output_type": "stream",
     "text": [
      "      A \n",
      "    A B C \n",
      "  A B C D E \n",
      "A B C D E F G \n"
     ]
    }
   ],
   "source": [
    "a = int(input(\"enter rows: \"))\n",
    "\n",
    "for i in range(1,a*2):\n",
    "    if(i%2 != 0):\n",
    "        for j in range(1,a*2-i):\n",
    "            print(\" \",end =\"\")\n",
    "        \n",
    "        for k in range(1,i+1):\n",
    "            print(chr(64+k),end=\" \")\n",
    "        \n",
    "        print(\"\")"
   ]
  },
  {
   "cell_type": "code",
   "execution_count": 3,
   "id": "8c69e8ee-b2b3-4b28-a161-108f17055aa8",
   "metadata": {},
   "outputs": [
    {
     "name": "stdin",
     "output_type": "stream",
     "text": [
      "enter rows:  3\n"
     ]
    },
    {
     "name": "stdout",
     "output_type": "stream",
     "text": [
      "    1 \n",
      "  2 3 4 \n",
      "5 6 7 8 9 \n"
     ]
    }
   ],
   "source": [
    "a = int(input(\"enter rows: \"))\n",
    "b = 1\n",
    "for i in range(1,a*2):\n",
    "    if(i%2 != 0):\n",
    "        for j in range(1,a*2-i):\n",
    "            print(\" \",end =\"\")\n",
    "        \n",
    "        for k in range(1,i+1):\n",
    "            print(b,end=\" \")\n",
    "            b += 1\n",
    "        \n",
    "        print(\"\")"
   ]
  },
  {
   "cell_type": "code",
   "execution_count": 6,
   "id": "f6c3a6f2-dee4-4b58-a989-0cfb76fd99cf",
   "metadata": {},
   "outputs": [
    {
     "name": "stdin",
     "output_type": "stream",
     "text": [
      "enter rows:  3\n"
     ]
    },
    {
     "name": "stdout",
     "output_type": "stream",
     "text": [
      "10 9 8 7 6 \n",
      "  5 4 3 \n",
      "    2 \n"
     ]
    }
   ],
   "source": [
    "a = int(input(\"enter rows: \" ))\n",
    "b = 10\n",
    "\n",
    "for i in range(a*2+1,1,-1):\n",
    "    if(i%2 != 0):\n",
    "        for j in range(i, a*2+1):\n",
    "            print(\" \",end=\"\")\n",
    "        \n",
    "        for k in range(1,i-1):\n",
    "            print(b,end=\" \")\n",
    "            b -= 1\n",
    "        print(\"\")"
   ]
  },
  {
   "cell_type": "code",
   "execution_count": null,
   "id": "9621bb9e-3fe1-418b-b508-deb8302dbc90",
   "metadata": {},
   "outputs": [],
   "source": []
  }
 ],
 "metadata": {
  "kernelspec": {
   "display_name": "Python 3 (ipykernel)",
   "language": "python",
   "name": "python3"
  },
  "language_info": {
   "codemirror_mode": {
    "name": "ipython",
    "version": 3
   },
   "file_extension": ".py",
   "mimetype": "text/x-python",
   "name": "python",
   "nbconvert_exporter": "python",
   "pygments_lexer": "ipython3",
   "version": "3.12.3"
  }
 },
 "nbformat": 4,
 "nbformat_minor": 5
}
