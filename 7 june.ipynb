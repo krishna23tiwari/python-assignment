{
 "cells": [
  {
   "cell_type": "code",
   "execution_count": null,
   "id": "865334b9-1a32-4af9-be5d-554e30425aec",
   "metadata": {},
   "outputs": [],
   "source": [
    "a = int(input(\"enter first number\"))\n",
    "b = int(input(\"enter second number\"))\n",
    "\n",
    "a = a+b\n",
    "b = a-b\n",
    "a = a-b\n",
    "\n",
    "print(\"now a is\",a)\n",
    "print(\"now b is\",b)"
   ]
  },
  {
   "cell_type": "code",
   "execution_count": 2,
   "id": "deb14243-37a6-49f5-91ac-085c6f65d4b6",
   "metadata": {},
   "outputs": [
    {
     "name": "stdin",
     "output_type": "stream",
     "text": [
      "enter a number for reverse 123\n"
     ]
    },
    {
     "name": "stdout",
     "output_type": "stream",
     "text": [
      "321 "
     ]
    }
   ],
   "source": [
    "sum=0\n",
    "a = int(input(\"enter a number for reverse\"))\n",
    "\n",
    "while(a>0):\n",
    "\n",
    "    rem =a % 10\n",
    "    sum = sum*10+rem\n",
    "    a = a//10\n",
    "    \n",
    "print(sum, end = ' ')"
   ]
  },
  {
   "cell_type": "code",
   "execution_count": null,
   "id": "221d3d2b-694a-4bf9-a68c-f8ea1ac2622e",
   "metadata": {},
   "outputs": [],
   "source": [
    "sum = 0\n",
    "x = int(input(\"enter number\"))\n",
    "\n",
    "for digit in str(x):\n",
    "    sum += int(digit)\n",
    "\n",
    "print(sum)\n",
    "\n"
   ]
  },
  {
   "cell_type": "code",
   "execution_count": null,
   "id": "ce8fb2ed-976c-41f5-876a-86425b09950d",
   "metadata": {},
   "outputs": [],
   "source": [
    "sum = 0\n",
    "tmp = 0\n",
    "x = int(input(\"enter number\"))\n",
    "\n",
    "for digit in str(x):\n",
    "    rem = x%10\n",
    "    sum = rem *rem\n",
    "    x = x//10\n",
    "    tmp += sum\n",
    "    \n",
    "print(tmp)"
   ]
  },
  {
   "cell_type": "code",
   "execution_count": null,
   "id": "169aec78-665b-4280-b4f2-f9c0cb239fc1",
   "metadata": {},
   "outputs": [],
   "source": [
    "sum = 0\n",
    "x = int(input(\"enter number \"))\n",
    "tmp = x\n",
    "\n",
    "for i in str(x):\n",
    "    rem = x%10\n",
    "    sum += rem*rem*rem\n",
    "    x = x//10\n",
    "    \n",
    "    \n",
    "if tmp  == sum :\n",
    "    print(\"armstrong\")\n",
    "else:\n",
    "    print(\"not\")"
   ]
  }
 ],
 "metadata": {
  "kernelspec": {
   "display_name": "Python 3 (ipykernel)",
   "language": "python",
   "name": "python3"
  },
  "language_info": {
   "codemirror_mode": {
    "name": "ipython",
    "version": 3
   },
   "file_extension": ".py",
   "mimetype": "text/x-python",
   "name": "python",
   "nbconvert_exporter": "python",
   "pygments_lexer": "ipython3",
   "version": "3.12.3"
  }
 },
 "nbformat": 4,
 "nbformat_minor": 5
}
